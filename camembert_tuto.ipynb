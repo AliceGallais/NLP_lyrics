{
 "cells": [
  {
   "cell_type": "code",
   "execution_count": 1,
   "metadata": {},
   "outputs": [],
   "source": [
    "import torch\n",
    "from fast_bert.data_cls import BertDataBunch\n",
    "from fast_bert.learner_cls import BertLearner\n",
    "from fast_bert.data_lm import BertLMDataBunch\n",
    "from fast_bert.learner_lm import BertLMLearner\n",
    "from fast_bert.metrics import fbeta, roc_auc\n",
    "from fast_bert.prediction import BertClassificationPredictor\n",
    "from pathlib import Path\n",
    "import pandas as pd\n",
    "import logging\n",
    "\n",
    "logger = logging.getLogger()\n",
    "device_cuda = torch.device(\"cuda\")"
   ]
  },
  {
   "cell_type": "code",
   "execution_count": 2,
   "metadata": {},
   "outputs": [
    {
     "data": {
      "text/plain": [
       "['sm_37',\n",
       " 'sm_50',\n",
       " 'sm_60',\n",
       " 'sm_61',\n",
       " 'sm_70',\n",
       " 'sm_75',\n",
       " 'sm_80',\n",
       " 'sm_86',\n",
       " 'compute_37']"
      ]
     },
     "execution_count": 2,
     "metadata": {},
     "output_type": "execute_result"
    }
   ],
   "source": [
    "torch.cuda.get_arch_list()"
   ]
  },
  {
   "cell_type": "code",
   "execution_count": 3,
   "metadata": {},
   "outputs": [],
   "source": [
    "torch.cuda.reset_peak_memory_stats()"
   ]
  },
  {
   "cell_type": "code",
   "execution_count": 4,
   "metadata": {},
   "outputs": [],
   "source": [
    "DATA_PATH = Path('C:/Users/agallais/VScodeProjects/lyrics/data/')\n",
    "LOG_PATH = Path('C:/Users/agallais/VScodeProjects/lyrics/logs/')\n",
    "MODEL_PATH = Path('C:/Users/agallais/VScodeProjects/lyrics/model/')\n",
    "LABEL_PATH = Path('C:/Users/agallais/VScodeProjects/lyrics/labels/')"
   ]
  },
  {
   "cell_type": "code",
   "execution_count": 5,
   "metadata": {},
   "outputs": [
    {
     "data": {
      "text/html": [
       "<div>\n",
       "<style scoped>\n",
       "    .dataframe tbody tr th:only-of-type {\n",
       "        vertical-align: middle;\n",
       "    }\n",
       "\n",
       "    .dataframe tbody tr th {\n",
       "        vertical-align: top;\n",
       "    }\n",
       "\n",
       "    .dataframe thead th {\n",
       "        text-align: right;\n",
       "    }\n",
       "</style>\n",
       "<table border=\"1\" class=\"dataframe\">\n",
       "  <thead>\n",
       "    <tr style=\"text-align: right;\">\n",
       "      <th></th>\n",
       "      <th>Unnamed: 0</th>\n",
       "      <th>artist</th>\n",
       "      <th>artist_id</th>\n",
       "      <th>artist_process</th>\n",
       "      <th>title</th>\n",
       "      <th>url_lyrics</th>\n",
       "      <th>lyrics</th>\n",
       "      <th>GENRES_MAX</th>\n",
       "      <th>MAX_CERTAINTY</th>\n",
       "      <th>detect</th>\n",
       "    </tr>\n",
       "  </thead>\n",
       "  <tbody>\n",
       "    <tr>\n",
       "      <th>0</th>\n",
       "      <td>0</td>\n",
       "      <td>France Gall</td>\n",
       "      <td>4675</td>\n",
       "      <td>france-gall</td>\n",
       "      <td>Aime-la</td>\n",
       "      <td>https://www.paroles.net/france-gall/paroles-ai...</td>\n",
       "      <td>. La chance a tourné dans ta vie, tes amours. ...</td>\n",
       "      <td>Pop</td>\n",
       "      <td>True</td>\n",
       "      <td>fr</td>\n",
       "    </tr>\n",
       "    <tr>\n",
       "      <th>1</th>\n",
       "      <td>1</td>\n",
       "      <td>France Gall</td>\n",
       "      <td>4675</td>\n",
       "      <td>france-gall</td>\n",
       "      <td>Amor tambien</td>\n",
       "      <td>https://www.paroles.net/france-gall/paroles-am...</td>\n",
       "      <td>Y a des jours fragiles. Des soirées difficiles...</td>\n",
       "      <td>Pop</td>\n",
       "      <td>True</td>\n",
       "      <td>fr</td>\n",
       "    </tr>\n",
       "    <tr>\n",
       "      <th>2</th>\n",
       "      <td>2</td>\n",
       "      <td>France Gall</td>\n",
       "      <td>4675</td>\n",
       "      <td>france-gall</td>\n",
       "      <td>Babacar</td>\n",
       "      <td>https://www.paroles.net/france-gall/paroles-ba...</td>\n",
       "      <td>J'ai ton cœur qui tape qui cogne. Dans mon cor...</td>\n",
       "      <td>Pop</td>\n",
       "      <td>True</td>\n",
       "      <td>fr</td>\n",
       "    </tr>\n",
       "    <tr>\n",
       "      <th>3</th>\n",
       "      <td>3</td>\n",
       "      <td>France Gall</td>\n",
       "      <td>4675</td>\n",
       "      <td>france-gall</td>\n",
       "      <td>Bébé comme la vie</td>\n",
       "      <td>https://www.paroles.net/france-gall/paroles-be...</td>\n",
       "      <td>Y a des couleurs qu'on oublie pas. Le cœur, qu...</td>\n",
       "      <td>Pop</td>\n",
       "      <td>True</td>\n",
       "      <td>fr</td>\n",
       "    </tr>\n",
       "    <tr>\n",
       "      <th>4</th>\n",
       "      <td>4</td>\n",
       "      <td>France Gall</td>\n",
       "      <td>4675</td>\n",
       "      <td>france-gall</td>\n",
       "      <td>C'est Bon Que Tu Sois Là</td>\n",
       "      <td>https://www.paroles.net/france-gall/paroles-c-...</td>\n",
       "      <td>Tous ces mots qui condamnent. Comme c'est dur ...</td>\n",
       "      <td>Pop</td>\n",
       "      <td>True</td>\n",
       "      <td>fr</td>\n",
       "    </tr>\n",
       "    <tr>\n",
       "      <th>...</th>\n",
       "      <td>...</td>\n",
       "      <td>...</td>\n",
       "      <td>...</td>\n",
       "      <td>...</td>\n",
       "      <td>...</td>\n",
       "      <td>...</td>\n",
       "      <td>...</td>\n",
       "      <td>...</td>\n",
       "      <td>...</td>\n",
       "      <td>...</td>\n",
       "    </tr>\n",
       "    <tr>\n",
       "      <th>21770</th>\n",
       "      <td>26562</td>\n",
       "      <td>Dub Silence</td>\n",
       "      <td>1585174</td>\n",
       "      <td>dub-silence</td>\n",
       "      <td>It's Time</td>\n",
       "      <td>https://www.paroles.net/dub-silence/paroles-it...</td>\n",
       "      <td>On ne le dirait pas. Mais tout le monde en a. ...</td>\n",
       "      <td>Pop</td>\n",
       "      <td>False</td>\n",
       "      <td>fr</td>\n",
       "    </tr>\n",
       "    <tr>\n",
       "      <th>21771</th>\n",
       "      <td>26563</td>\n",
       "      <td>Dub Silence</td>\n",
       "      <td>1585174</td>\n",
       "      <td>dub-silence</td>\n",
       "      <td>L'hymne des légumes</td>\n",
       "      <td>https://www.paroles.net/dub-silence/paroles-l-...</td>\n",
       "      <td>Mon style est vrai, j’ai le flow, toujours fra...</td>\n",
       "      <td>Pop</td>\n",
       "      <td>False</td>\n",
       "      <td>fr</td>\n",
       "    </tr>\n",
       "    <tr>\n",
       "      <th>21772</th>\n",
       "      <td>26565</td>\n",
       "      <td>Dub Silence</td>\n",
       "      <td>1585174</td>\n",
       "      <td>dub-silence</td>\n",
       "      <td>MAJ</td>\n",
       "      <td>https://www.paroles.net/dub-silence/paroles-maj</td>\n",
       "      <td>Il y a un petit bout de temps que je vous ai r...</td>\n",
       "      <td>Pop</td>\n",
       "      <td>False</td>\n",
       "      <td>fr</td>\n",
       "    </tr>\n",
       "    <tr>\n",
       "      <th>21773</th>\n",
       "      <td>26566</td>\n",
       "      <td>Dub Silence</td>\n",
       "      <td>1585174</td>\n",
       "      <td>dub-silence</td>\n",
       "      <td>Matchgirl</td>\n",
       "      <td>https://www.paroles.net/dub-silence/paroles-ma...</td>\n",
       "      <td>Demain c'est le 25 décembre, la ville s'est pa...</td>\n",
       "      <td>Pop</td>\n",
       "      <td>False</td>\n",
       "      <td>fr</td>\n",
       "    </tr>\n",
       "    <tr>\n",
       "      <th>21774</th>\n",
       "      <td>26567</td>\n",
       "      <td>Dub Silence</td>\n",
       "      <td>1585174</td>\n",
       "      <td>dub-silence</td>\n",
       "      <td>Musical Opposition</td>\n",
       "      <td>https://www.paroles.net/dub-silence/paroles-mu...</td>\n",
       "      <td>La musique est un luxe, que peut de gens peuve...</td>\n",
       "      <td>Pop</td>\n",
       "      <td>False</td>\n",
       "      <td>fr</td>\n",
       "    </tr>\n",
       "  </tbody>\n",
       "</table>\n",
       "<p>18529 rows × 10 columns</p>\n",
       "</div>"
      ],
      "text/plain": [
       "       Unnamed: 0       artist  artist_id artist_process  \\\n",
       "0               0  France Gall       4675    france-gall   \n",
       "1               1  France Gall       4675    france-gall   \n",
       "2               2  France Gall       4675    france-gall   \n",
       "3               3  France Gall       4675    france-gall   \n",
       "4               4  France Gall       4675    france-gall   \n",
       "...           ...          ...        ...            ...   \n",
       "21770       26562  Dub Silence    1585174    dub-silence   \n",
       "21771       26563  Dub Silence    1585174    dub-silence   \n",
       "21772       26565  Dub Silence    1585174    dub-silence   \n",
       "21773       26566  Dub Silence    1585174    dub-silence   \n",
       "21774       26567  Dub Silence    1585174    dub-silence   \n",
       "\n",
       "                          title  \\\n",
       "0                       Aime-la   \n",
       "1                  Amor tambien   \n",
       "2                       Babacar   \n",
       "3             Bébé comme la vie   \n",
       "4      C'est Bon Que Tu Sois Là   \n",
       "...                         ...   \n",
       "21770                 It's Time   \n",
       "21771       L'hymne des légumes   \n",
       "21772                       MAJ   \n",
       "21773                 Matchgirl   \n",
       "21774        Musical Opposition   \n",
       "\n",
       "                                              url_lyrics  \\\n",
       "0      https://www.paroles.net/france-gall/paroles-ai...   \n",
       "1      https://www.paroles.net/france-gall/paroles-am...   \n",
       "2      https://www.paroles.net/france-gall/paroles-ba...   \n",
       "3      https://www.paroles.net/france-gall/paroles-be...   \n",
       "4      https://www.paroles.net/france-gall/paroles-c-...   \n",
       "...                                                  ...   \n",
       "21770  https://www.paroles.net/dub-silence/paroles-it...   \n",
       "21771  https://www.paroles.net/dub-silence/paroles-l-...   \n",
       "21772    https://www.paroles.net/dub-silence/paroles-maj   \n",
       "21773  https://www.paroles.net/dub-silence/paroles-ma...   \n",
       "21774  https://www.paroles.net/dub-silence/paroles-mu...   \n",
       "\n",
       "                                                  lyrics GENRES_MAX  \\\n",
       "0      . La chance a tourné dans ta vie, tes amours. ...        Pop   \n",
       "1      Y a des jours fragiles. Des soirées difficiles...        Pop   \n",
       "2      J'ai ton cœur qui tape qui cogne. Dans mon cor...        Pop   \n",
       "3      Y a des couleurs qu'on oublie pas. Le cœur, qu...        Pop   \n",
       "4      Tous ces mots qui condamnent. Comme c'est dur ...        Pop   \n",
       "...                                                  ...        ...   \n",
       "21770  On ne le dirait pas. Mais tout le monde en a. ...        Pop   \n",
       "21771  Mon style est vrai, j’ai le flow, toujours fra...        Pop   \n",
       "21772  Il y a un petit bout de temps que je vous ai r...        Pop   \n",
       "21773  Demain c'est le 25 décembre, la ville s'est pa...        Pop   \n",
       "21774  La musique est un luxe, que peut de gens peuve...        Pop   \n",
       "\n",
       "      MAX_CERTAINTY detect  \n",
       "0              True     fr  \n",
       "1              True     fr  \n",
       "2              True     fr  \n",
       "3              True     fr  \n",
       "4              True     fr  \n",
       "...             ...    ...  \n",
       "21770         False     fr  \n",
       "21771         False     fr  \n",
       "21772         False     fr  \n",
       "21773         False     fr  \n",
       "21774         False     fr  \n",
       "\n",
       "[18529 rows x 10 columns]"
      ]
     },
     "execution_count": 5,
     "metadata": {},
     "output_type": "execute_result"
    }
   ],
   "source": [
    "df_paroles_genres = pd.read_csv(f\"{DATA_PATH}/data_lyrics.csv\")\n",
    "df_paroles_genres = df_paroles_genres.dropna(axis=0)\n",
    "df_paroles_genres"
   ]
  },
  {
   "cell_type": "code",
   "execution_count": 6,
   "metadata": {},
   "outputs": [
    {
     "data": {
      "text/plain": [
       "Pop                    8012\n",
       "Rap                    3859\n",
       "Chanson française      2292\n",
       "Rock                   2035\n",
       "Reggae                  955\n",
       "Alternative             354\n",
       "Jazz                    239\n",
       "R&B                     232\n",
       "Latino                  178\n",
       "Soul                    121\n",
       "Musique africaine       114\n",
       "Electro                 108\n",
       "Singer & Songwriter      17\n",
       "Bandes originales        13\n",
       "Name: GENRES_MAX, dtype: int64"
      ]
     },
     "execution_count": 6,
     "metadata": {},
     "output_type": "execute_result"
    }
   ],
   "source": [
    "df_paroles_genres['GENRES_MAX'].value_counts()"
   ]
  },
  {
   "cell_type": "code",
   "execution_count": 7,
   "metadata": {},
   "outputs": [
    {
     "data": {
      "text/html": [
       "<div>\n",
       "<style scoped>\n",
       "    .dataframe tbody tr th:only-of-type {\n",
       "        vertical-align: middle;\n",
       "    }\n",
       "\n",
       "    .dataframe tbody tr th {\n",
       "        vertical-align: top;\n",
       "    }\n",
       "\n",
       "    .dataframe thead th {\n",
       "        text-align: right;\n",
       "    }\n",
       "</style>\n",
       "<table border=\"1\" class=\"dataframe\">\n",
       "  <thead>\n",
       "    <tr style=\"text-align: right;\">\n",
       "      <th></th>\n",
       "      <th>title</th>\n",
       "      <th>lyrics</th>\n",
       "      <th>Genre_Chanson française</th>\n",
       "      <th>Genre_Pop</th>\n",
       "      <th>Genre_Rap</th>\n",
       "      <th>Genre_Reggae</th>\n",
       "      <th>Genre_Rock</th>\n",
       "    </tr>\n",
       "  </thead>\n",
       "  <tbody>\n",
       "    <tr>\n",
       "      <th>0</th>\n",
       "      <td>Aime-la</td>\n",
       "      <td>. La chance a tourné dans ta vie, tes amours. ...</td>\n",
       "      <td>0</td>\n",
       "      <td>1</td>\n",
       "      <td>0</td>\n",
       "      <td>0</td>\n",
       "      <td>0</td>\n",
       "    </tr>\n",
       "    <tr>\n",
       "      <th>1</th>\n",
       "      <td>Amor tambien</td>\n",
       "      <td>Y a des jours fragiles. Des soirées difficiles...</td>\n",
       "      <td>0</td>\n",
       "      <td>1</td>\n",
       "      <td>0</td>\n",
       "      <td>0</td>\n",
       "      <td>0</td>\n",
       "    </tr>\n",
       "    <tr>\n",
       "      <th>2</th>\n",
       "      <td>Babacar</td>\n",
       "      <td>J'ai ton cœur qui tape qui cogne. Dans mon cor...</td>\n",
       "      <td>0</td>\n",
       "      <td>1</td>\n",
       "      <td>0</td>\n",
       "      <td>0</td>\n",
       "      <td>0</td>\n",
       "    </tr>\n",
       "    <tr>\n",
       "      <th>3</th>\n",
       "      <td>Bébé comme la vie</td>\n",
       "      <td>Y a des couleurs qu'on oublie pas. Le cœur, qu...</td>\n",
       "      <td>0</td>\n",
       "      <td>1</td>\n",
       "      <td>0</td>\n",
       "      <td>0</td>\n",
       "      <td>0</td>\n",
       "    </tr>\n",
       "    <tr>\n",
       "      <th>4</th>\n",
       "      <td>C'est Bon Que Tu Sois Là</td>\n",
       "      <td>Tous ces mots qui condamnent. Comme c'est dur ...</td>\n",
       "      <td>0</td>\n",
       "      <td>1</td>\n",
       "      <td>0</td>\n",
       "      <td>0</td>\n",
       "      <td>0</td>\n",
       "    </tr>\n",
       "    <tr>\n",
       "      <th>...</th>\n",
       "      <td>...</td>\n",
       "      <td>...</td>\n",
       "      <td>...</td>\n",
       "      <td>...</td>\n",
       "      <td>...</td>\n",
       "      <td>...</td>\n",
       "      <td>...</td>\n",
       "    </tr>\n",
       "    <tr>\n",
       "      <th>21770</th>\n",
       "      <td>It's Time</td>\n",
       "      <td>On ne le dirait pas. Mais tout le monde en a. ...</td>\n",
       "      <td>0</td>\n",
       "      <td>1</td>\n",
       "      <td>0</td>\n",
       "      <td>0</td>\n",
       "      <td>0</td>\n",
       "    </tr>\n",
       "    <tr>\n",
       "      <th>21771</th>\n",
       "      <td>L'hymne des légumes</td>\n",
       "      <td>Mon style est vrai, j’ai le flow, toujours fra...</td>\n",
       "      <td>0</td>\n",
       "      <td>1</td>\n",
       "      <td>0</td>\n",
       "      <td>0</td>\n",
       "      <td>0</td>\n",
       "    </tr>\n",
       "    <tr>\n",
       "      <th>21772</th>\n",
       "      <td>MAJ</td>\n",
       "      <td>Il y a un petit bout de temps que je vous ai r...</td>\n",
       "      <td>0</td>\n",
       "      <td>1</td>\n",
       "      <td>0</td>\n",
       "      <td>0</td>\n",
       "      <td>0</td>\n",
       "    </tr>\n",
       "    <tr>\n",
       "      <th>21773</th>\n",
       "      <td>Matchgirl</td>\n",
       "      <td>Demain c'est le 25 décembre, la ville s'est pa...</td>\n",
       "      <td>0</td>\n",
       "      <td>1</td>\n",
       "      <td>0</td>\n",
       "      <td>0</td>\n",
       "      <td>0</td>\n",
       "    </tr>\n",
       "    <tr>\n",
       "      <th>21774</th>\n",
       "      <td>Musical Opposition</td>\n",
       "      <td>La musique est un luxe, que peut de gens peuve...</td>\n",
       "      <td>0</td>\n",
       "      <td>1</td>\n",
       "      <td>0</td>\n",
       "      <td>0</td>\n",
       "      <td>0</td>\n",
       "    </tr>\n",
       "  </tbody>\n",
       "</table>\n",
       "<p>17153 rows × 7 columns</p>\n",
       "</div>"
      ],
      "text/plain": [
       "                          title  \\\n",
       "0                       Aime-la   \n",
       "1                  Amor tambien   \n",
       "2                       Babacar   \n",
       "3             Bébé comme la vie   \n",
       "4      C'est Bon Que Tu Sois Là   \n",
       "...                         ...   \n",
       "21770                 It's Time   \n",
       "21771       L'hymne des légumes   \n",
       "21772                       MAJ   \n",
       "21773                 Matchgirl   \n",
       "21774        Musical Opposition   \n",
       "\n",
       "                                                  lyrics  \\\n",
       "0      . La chance a tourné dans ta vie, tes amours. ...   \n",
       "1      Y a des jours fragiles. Des soirées difficiles...   \n",
       "2      J'ai ton cœur qui tape qui cogne. Dans mon cor...   \n",
       "3      Y a des couleurs qu'on oublie pas. Le cœur, qu...   \n",
       "4      Tous ces mots qui condamnent. Comme c'est dur ...   \n",
       "...                                                  ...   \n",
       "21770  On ne le dirait pas. Mais tout le monde en a. ...   \n",
       "21771  Mon style est vrai, j’ai le flow, toujours fra...   \n",
       "21772  Il y a un petit bout de temps que je vous ai r...   \n",
       "21773  Demain c'est le 25 décembre, la ville s'est pa...   \n",
       "21774  La musique est un luxe, que peut de gens peuve...   \n",
       "\n",
       "       Genre_Chanson française  Genre_Pop  Genre_Rap  Genre_Reggae  Genre_Rock  \n",
       "0                            0          1          0             0           0  \n",
       "1                            0          1          0             0           0  \n",
       "2                            0          1          0             0           0  \n",
       "3                            0          1          0             0           0  \n",
       "4                            0          1          0             0           0  \n",
       "...                        ...        ...        ...           ...         ...  \n",
       "21770                        0          1          0             0           0  \n",
       "21771                        0          1          0             0           0  \n",
       "21772                        0          1          0             0           0  \n",
       "21773                        0          1          0             0           0  \n",
       "21774                        0          1          0             0           0  \n",
       "\n",
       "[17153 rows x 7 columns]"
      ]
     },
     "execution_count": 7,
     "metadata": {},
     "output_type": "execute_result"
    }
   ],
   "source": [
    "df = df_paroles_genres[df_paroles_genres['GENRES_MAX'].isin(['Pop','Rap','Chanson française','Rock','Reggae'])]\n",
    "df = pd.concat([df[[\"title\", \"lyrics\"]], pd.get_dummies(df[[\"GENRES_MAX\"]], prefix=\"Genre\")], axis=1)\n",
    "df"
   ]
  },
  {
   "cell_type": "code",
   "execution_count": 8,
   "metadata": {},
   "outputs": [
    {
     "name": "stdout",
     "output_type": "stream",
     "text": [
      "Nombre de chansons dans le val_set: 3431\n",
      "Nombre de chansons dans le train_set: 13722\n"
     ]
    }
   ],
   "source": [
    "val_set = df.sample(frac=0.2, replace=False, random_state=42)\n",
    "train_set = df.drop(index = val_set.index)\n",
    "print('Nombre de chansons dans le val_set:',len(val_set))\n",
    "print('Nombre de chansons dans le train_set:', len(train_set))\n",
    "val_set.to_csv(f\"{DATA_PATH}/val_set.csv\")\n",
    "train_set.to_csv(f\"{DATA_PATH}/train_set.csv\")"
   ]
  },
  {
   "cell_type": "code",
   "execution_count": 9,
   "metadata": {},
   "outputs": [],
   "source": [
    "labels = df.columns[2:].to_list()\n",
    "with open(f\"{LABEL_PATH}/labels.txt\", 'w') as f:\n",
    "    for i in labels:\n",
    "        f.write(i + \"\\n\")"
   ]
  },
  {
   "cell_type": "code",
   "execution_count": 10,
   "metadata": {},
   "outputs": [
    {
     "name": "stdout",
     "output_type": "stream",
     "text": [
      "Nombre de chansons: 17153\n"
     ]
    }
   ],
   "source": [
    "all_texts = df['lyrics'].to_list()\n",
    "print('Nombre de chansons:', len(all_texts))"
   ]
  },
  {
   "cell_type": "markdown",
   "metadata": {},
   "source": [
    "### Création de LMDataBunch"
   ]
  },
  {
   "cell_type": "code",
   "execution_count": 11,
   "metadata": {},
   "outputs": [
    {
     "data": {
      "text/html": [
       "\n",
       "    <div>\n",
       "        <style>\n",
       "            /* Turns off some styling */\n",
       "            progress {\n",
       "                /* gets rid of default border in Firefox and Opera. */\n",
       "                border: none;\n",
       "                /* Needs to be in here for Safari polyfill so background images work as expected. */\n",
       "                background-size: auto;\n",
       "            }\n",
       "            .progress-bar-interrupted, .progress-bar-interrupted::-webkit-progress-bar {\n",
       "                background: #F44336;\n",
       "            }\n",
       "        </style>\n",
       "      <progress value='1716' class='' max='1716' style='width:300px; height:20px; vertical-align: middle;'></progress>\n",
       "      100.00% [1716/1716 00:00<00:00]\n",
       "    </div>\n",
       "    "
      ],
      "text/plain": [
       "<IPython.core.display.HTML object>"
      ]
     },
     "metadata": {},
     "output_type": "display_data"
    }
   ],
   "source": [
    "databunch_lm = BertLMDataBunch.from_raw_corpus(\n",
    "                    data_dir=DATA_PATH,\n",
    "                    text_list=all_texts,\n",
    "                    tokenizer='camembert-base',\n",
    "                    batch_size_per_gpu=5,\n",
    "                    max_seq_length=512,\n",
    "                    multi_gpu=False,\n",
    "                    model_type='camembert-base',\n",
    "                    logger=logger)"
   ]
  },
  {
   "cell_type": "markdown",
   "metadata": {},
   "source": [
    "### Création de LMLearner"
   ]
  },
  {
   "cell_type": "code",
   "execution_count": 12,
   "metadata": {},
   "outputs": [
    {
     "name": "stderr",
     "output_type": "stream",
     "text": [
      "Some weights of CamembertForMaskedLM were not initialized from the model checkpoint at camembert-base and are newly initialized: ['lm_head.decoder.bias']\n",
      "You should probably TRAIN this model on a down-stream task to be able to use it for predictions and inference.\n"
     ]
    }
   ],
   "source": [
    "lm_learner = BertLMLearner.from_pretrained_model(\n",
    "                            dataBunch=databunch_lm,\n",
    "                            pretrained_path='camembert-base',\n",
    "                            output_dir=MODEL_PATH,\n",
    "                            metrics=[],\n",
    "                            device=device_cuda,\n",
    "                            logger=logger,\n",
    "                            multi_gpu=False,\n",
    "                            logging_steps=50,\n",
    "                            fp16_opt_level=\"O2\")"
   ]
  },
  {
   "cell_type": "code",
   "execution_count": 13,
   "metadata": {},
   "outputs": [
    {
     "data": {
      "text/html": [
       "\n",
       "    <div>\n",
       "        <style>\n",
       "            /* Turns off some styling */\n",
       "            progress {\n",
       "                /* gets rid of default border in Firefox and Opera. */\n",
       "                border: none;\n",
       "                /* Needs to be in here for Safari polyfill so background images work as expected. */\n",
       "                background-size: auto;\n",
       "            }\n",
       "            .progress-bar-interrupted, .progress-bar-interrupted::-webkit-progress-bar {\n",
       "                background: #F44336;\n",
       "            }\n",
       "        </style>\n",
       "      <progress value='0' class='' max='30' style='width:300px; height:20px; vertical-align: middle;'></progress>\n",
       "      0.00% [0/30 00:00<00:00]\n",
       "    </div>\n",
       "    \n",
       "\n",
       "\n",
       "    <div>\n",
       "        <style>\n",
       "            /* Turns off some styling */\n",
       "            progress {\n",
       "                /* gets rid of default border in Firefox and Opera. */\n",
       "                border: none;\n",
       "                /* Needs to be in here for Safari polyfill so background images work as expected. */\n",
       "                background-size: auto;\n",
       "            }\n",
       "            .progress-bar-interrupted, .progress-bar-interrupted::-webkit-progress-bar {\n",
       "                background: #F44336;\n",
       "            }\n",
       "        </style>\n",
       "      <progress value='0' class='' max='3011' style='width:300px; height:20px; vertical-align: middle;'></progress>\n",
       "      0.00% [0/3011 00:00<00:00]\n",
       "    </div>\n",
       "    "
      ],
      "text/plain": [
       "<IPython.core.display.HTML object>"
      ]
     },
     "metadata": {},
     "output_type": "display_data"
    },
    {
     "ename": "RuntimeError",
     "evalue": "CUDA out of memory. Tried to allocate 312.00 MiB (GPU 0; 4.00 GiB total capacity; 3.42 GiB already allocated; 0 bytes free; 3.46 GiB reserved in total by PyTorch) If reserved memory is >> allocated memory try setting max_split_size_mb to avoid fragmentation.  See documentation for Memory Management and PYTORCH_CUDA_ALLOC_CONF",
     "output_type": "error",
     "traceback": [
      "\u001b[1;31m---------------------------------------------------------------------------\u001b[0m",
      "\u001b[1;31mRuntimeError\u001b[0m                              Traceback (most recent call last)",
      "Cell \u001b[1;32mIn[13], line 1\u001b[0m\n\u001b[1;32m----> 1\u001b[0m lm_learner\u001b[39m.\u001b[39;49mfit(epochs\u001b[39m=\u001b[39;49m\u001b[39m30\u001b[39;49m,\n\u001b[0;32m      2\u001b[0m             lr\u001b[39m=\u001b[39;49m\u001b[39m1e-4\u001b[39;49m,\n\u001b[0;32m      3\u001b[0m             validate\u001b[39m=\u001b[39;49m\u001b[39mTrue\u001b[39;49;00m,\n\u001b[0;32m      4\u001b[0m             schedule_type\u001b[39m=\u001b[39;49m\u001b[39m\"\u001b[39;49m\u001b[39mwarmup_cosine\u001b[39;49m\u001b[39m\"\u001b[39;49m,\n\u001b[0;32m      5\u001b[0m             optimizer_type\u001b[39m=\u001b[39;49m\u001b[39m\"\u001b[39;49m\u001b[39madamw\u001b[39;49m\u001b[39m\"\u001b[39;49m)\n",
      "File \u001b[1;32mc:\\Users\\agallais\\anaconda3\\envs\\test_camembert\\lib\\site-packages\\fast_bert\\learner_lm.py:211\u001b[0m, in \u001b[0;36mBertLMLearner.fit\u001b[1;34m(self, epochs, lr, validate, schedule_type, optimizer_type)\u001b[0m\n\u001b[0;32m    209\u001b[0m inputs, labels \u001b[39m=\u001b[39m \u001b[39mself\u001b[39m\u001b[39m.\u001b[39mdata\u001b[39m.\u001b[39mmask_tokens(batch)\n\u001b[0;32m    210\u001b[0m cpu_device \u001b[39m=\u001b[39m torch\u001b[39m.\u001b[39mdevice(\u001b[39m\"\u001b[39m\u001b[39mcpu\u001b[39m\u001b[39m\"\u001b[39m)\n\u001b[1;32m--> 211\u001b[0m loss \u001b[39m=\u001b[39m \u001b[39mself\u001b[39;49m\u001b[39m.\u001b[39;49mtraining_step(batch)\n\u001b[0;32m    213\u001b[0m tr_loss \u001b[39m+\u001b[39m\u001b[39m=\u001b[39m loss\u001b[39m.\u001b[39mitem()\n\u001b[0;32m    214\u001b[0m epoch_loss \u001b[39m+\u001b[39m\u001b[39m=\u001b[39m loss\u001b[39m.\u001b[39mitem()\n",
      "File \u001b[1;32mc:\\Users\\agallais\\anaconda3\\envs\\test_camembert\\lib\\site-packages\\fast_bert\\learner_lm.py:322\u001b[0m, in \u001b[0;36mBertLMLearner.training_step\u001b[1;34m(self, batch)\u001b[0m\n\u001b[0;32m    319\u001b[0m     loss \u001b[39m=\u001b[39m loss \u001b[39m/\u001b[39m \u001b[39mself\u001b[39m\u001b[39m.\u001b[39mgrad_accumulation_steps\n\u001b[0;32m    321\u001b[0m \u001b[39mif\u001b[39;00m \u001b[39mself\u001b[39m\u001b[39m.\u001b[39mis_fp16:\n\u001b[1;32m--> 322\u001b[0m     \u001b[39mself\u001b[39;49m\u001b[39m.\u001b[39;49mscaler\u001b[39m.\u001b[39;49mscale(loss)\u001b[39m.\u001b[39;49mbackward()\n\u001b[0;32m    323\u001b[0m \u001b[39melse\u001b[39;00m:\n\u001b[0;32m    324\u001b[0m     loss\u001b[39m.\u001b[39mbackward()\n",
      "File \u001b[1;32mc:\\Users\\agallais\\anaconda3\\envs\\test_camembert\\lib\\site-packages\\torch\\_tensor.py:396\u001b[0m, in \u001b[0;36mTensor.backward\u001b[1;34m(self, gradient, retain_graph, create_graph, inputs)\u001b[0m\n\u001b[0;32m    387\u001b[0m \u001b[39mif\u001b[39;00m has_torch_function_unary(\u001b[39mself\u001b[39m):\n\u001b[0;32m    388\u001b[0m     \u001b[39mreturn\u001b[39;00m handle_torch_function(\n\u001b[0;32m    389\u001b[0m         Tensor\u001b[39m.\u001b[39mbackward,\n\u001b[0;32m    390\u001b[0m         (\u001b[39mself\u001b[39m,),\n\u001b[1;32m   (...)\u001b[0m\n\u001b[0;32m    394\u001b[0m         create_graph\u001b[39m=\u001b[39mcreate_graph,\n\u001b[0;32m    395\u001b[0m         inputs\u001b[39m=\u001b[39minputs)\n\u001b[1;32m--> 396\u001b[0m torch\u001b[39m.\u001b[39;49mautograd\u001b[39m.\u001b[39;49mbackward(\u001b[39mself\u001b[39;49m, gradient, retain_graph, create_graph, inputs\u001b[39m=\u001b[39;49minputs)\n",
      "File \u001b[1;32mc:\\Users\\agallais\\anaconda3\\envs\\test_camembert\\lib\\site-packages\\torch\\autograd\\__init__.py:173\u001b[0m, in \u001b[0;36mbackward\u001b[1;34m(tensors, grad_tensors, retain_graph, create_graph, grad_variables, inputs)\u001b[0m\n\u001b[0;32m    168\u001b[0m     retain_graph \u001b[39m=\u001b[39m create_graph\n\u001b[0;32m    170\u001b[0m \u001b[39m# The reason we repeat same the comment below is that\u001b[39;00m\n\u001b[0;32m    171\u001b[0m \u001b[39m# some Python versions print out the first line of a multi-line function\u001b[39;00m\n\u001b[0;32m    172\u001b[0m \u001b[39m# calls in the traceback and some print out the last line\u001b[39;00m\n\u001b[1;32m--> 173\u001b[0m Variable\u001b[39m.\u001b[39;49m_execution_engine\u001b[39m.\u001b[39;49mrun_backward(  \u001b[39m# Calls into the C++ engine to run the backward pass\u001b[39;49;00m\n\u001b[0;32m    174\u001b[0m     tensors, grad_tensors_, retain_graph, create_graph, inputs,\n\u001b[0;32m    175\u001b[0m     allow_unreachable\u001b[39m=\u001b[39;49m\u001b[39mTrue\u001b[39;49;00m, accumulate_grad\u001b[39m=\u001b[39;49m\u001b[39mTrue\u001b[39;49;00m)\n",
      "\u001b[1;31mRuntimeError\u001b[0m: CUDA out of memory. Tried to allocate 312.00 MiB (GPU 0; 4.00 GiB total capacity; 3.42 GiB already allocated; 0 bytes free; 3.46 GiB reserved in total by PyTorch) If reserved memory is >> allocated memory try setting max_split_size_mb to avoid fragmentation.  See documentation for Memory Management and PYTORCH_CUDA_ALLOC_CONF"
     ]
    }
   ],
   "source": [
    "lm_learner.fit(epochs=30,\n",
    "            lr=1e-4,\n",
    "            validate=True,\n",
    "            schedule_type=\"warmup_cosine\",\n",
    "            optimizer_type=\"adamw\")"
   ]
  },
  {
   "cell_type": "code",
   "execution_count": null,
   "metadata": {},
   "outputs": [],
   "source": [
    "lm_learner.validate()"
   ]
  },
  {
   "cell_type": "code",
   "execution_count": null,
   "metadata": {},
   "outputs": [],
   "source": [
    "learner.save_model()"
   ]
  },
  {
   "cell_type": "markdown",
   "metadata": {},
   "source": [
    "### Création de databunch pour la classification"
   ]
  },
  {
   "cell_type": "code",
   "execution_count": null,
   "metadata": {},
   "outputs": [],
   "source": [
    "databunch = BertDataBunch(DATA_PATH, LABEL_PATH,\n",
    "                          tokenizer='camembert-base',\n",
    "                          train_file='train_set.csv',\n",
    "                          val_file='val_set.csv',\n",
    "                          label_file='labels.txt',\n",
    "                          text_col='review',\n",
    "                          label_col=['cadre/atmosphère','probleme technique',\"temps d'attente\",'accueil/relation commerciale'],\n",
    "                          batch_size_per_gpu=16,\n",
    "                          max_seq_length=512,\n",
    "                          multi_gpu=False,\n",
    "                          multi_label=True,\n",
    "                          model_type='camembert-base')"
   ]
  },
  {
   "cell_type": "markdown",
   "metadata": {},
   "source": [
    "### Création de Learner"
   ]
  },
  {
   "cell_type": "code",
   "execution_count": null,
   "metadata": {},
   "outputs": [],
   "source": [
    "metrics = [{'name': 'fbeta', 'function': fbeta}, {'name': 'roc_auc', 'function': roc_auc}]\n",
    "OUTPUT_DIR = Path('./finetuned_model')\n",
    "WGTS_PATH = Path('model/model_out/pytorch_model.bin')"
   ]
  },
  {
   "cell_type": "code",
   "execution_count": null,
   "metadata": {},
   "outputs": [],
   "source": [
    "cl_learner = BertLearner.from_pretrained_model(\n",
    "                        databunch,\n",
    "                        pretrained_path='model/model_out',\n",
    "                        metrics=metrics,\n",
    "                        device=device_cuda,\n",
    "                        logger=logger,\n",
    "                        output_dir=OUTPUT_DIR,\n",
    "                        finetuned_wgts_path=WGTS_PATH,\n",
    "                        warmup_steps=300,\n",
    "                        multi_gpu=False,\n",
    "                        multi_label=True,\n",
    "                        is_fp16=True,\n",
    "                        logging_steps=50)"
   ]
  },
  {
   "cell_type": "code",
   "execution_count": null,
   "metadata": {},
   "outputs": [],
   "source": [
    "cl_learner.fit(epochs=30,\n",
    "            lr=9e-5,\n",
    "            validate=True,\n",
    "            schedule_type=\"warmup_cosine\",\n",
    "            optimizer_type=\"adamw\")"
   ]
  },
  {
   "cell_type": "code",
   "execution_count": null,
   "metadata": {},
   "outputs": [],
   "source": [
    "cl_learner.validate()"
   ]
  },
  {
   "cell_type": "code",
   "execution_count": null,
   "metadata": {},
   "outputs": [],
   "source": [
    "class_learner.save_model()"
   ]
  },
  {
   "cell_type": "markdown",
   "metadata": {},
   "source": [
    "### Prédictions"
   ]
  },
  {
   "cell_type": "code",
   "execution_count": null,
   "metadata": {},
   "outputs": [],
   "source": [
    "predictor = BertClassificationPredictor(\n",
    "                model_path='finetuned_model/model_out',\n",
    "                label_path='labels/',\n",
    "                multi_label=True,\n",
    "                model_type='camembert-base',\n",
    "                do_lower_case=False)"
   ]
  },
  {
   "cell_type": "code",
   "execution_count": null,
   "metadata": {},
   "outputs": [],
   "source": [
    "predictor.predict(\"Texte à classer\")"
   ]
  }
 ],
 "metadata": {
  "kernelspec": {
   "display_name": "test_camembert",
   "language": "python",
   "name": "python3"
  },
  "language_info": {
   "codemirror_mode": {
    "name": "ipython",
    "version": 3
   },
   "file_extension": ".py",
   "mimetype": "text/x-python",
   "name": "python",
   "nbconvert_exporter": "python",
   "pygments_lexer": "ipython3",
   "version": "3.8.16"
  },
  "vscode": {
   "interpreter": {
    "hash": "670bdb03f36cbf905c9d2b81c8ddce06aa895fff20db46bd78e22b6612e032c2"
   }
  }
 },
 "nbformat": 4,
 "nbformat_minor": 4
}
